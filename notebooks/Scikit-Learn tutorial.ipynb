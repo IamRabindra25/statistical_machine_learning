{
 "cells": [
  {
   "cell_type": "markdown",
   "metadata": {},
   "source": [
    "# Scikit-learn: a tutorial\n",
    "\n",
    "<img width=\"40%\" src=\"images/machine_learning_2x.png\">\n",
    "\n",
    "This is a brief tutorial on scikit-learn, which I crafted from online material, in particular from the [scikit-learn webpage](https://scikit-learn.org/stable/).\n",
    "\n",
    "Scikit-learn is a python package that implements a very wide set of tools useful for machine learning. (Credits to the cartoon go to the wonderful [XKCD site](https://xkcd.com/))"
   ]
  },
  {
   "cell_type": "code",
   "execution_count": 1,
   "metadata": {},
   "outputs": [],
   "source": [
    "%matplotlib inline\n",
    "import matplotlib.pyplot as plt\n",
    "import numpy as np\n",
    "import pandas as pd\n",
    "import seaborn as sns"
   ]
  },
  {
   "cell_type": "markdown",
   "metadata": {},
   "source": [
    "## What can we do with scikit-learn?\n",
    "\n",
    "* [Data preprocessing](https://scikit-learn.org/stable/modules/preprocessing.html#preprocessing)\n",
    "* [Dimensionality reduction of large datasets](https://scikit-learn.org/stable/modules/decomposition.html#decompositions)\n",
    "* [Supervised learning for both classification and regression](https://scikit-learn.org/stable/supervised_learning.html#supervised-learning)\n",
    "* [Unsupervised learning and clustering](https://scikit-learn.org/stable/unsupervised_learning.html)\n",
    "* [Model selection](https://scikit-learn.org/stable/model_selection.html#model-selection)\n",
    "* [Composing processing steps together as Pipelines](https://scikit-learn.org/stable/modules/compose.html)\n",
    "\n",
    "The main strength the scikit-learn API has is its consistency: [all estimators, transformers, etc share the same main design](https://scikit-learn.org/stable/glossary.html#glossary-estimator-types), enabling very flexible compositions of different machine learning algorithms."
   ]
  },
  {
   "cell_type": "markdown",
   "metadata": {},
   "source": [
    "# Subjects that we will go through in this tutorial\n",
    "\n",
    "1. **Datasets**: loading, fetching and making toy example datasets with the `sklearn.datasets` module.\n",
    "2. **Preprocessing**: spliting into training and test sets, scaling the data values through different criteria.\n",
    "3. **Fitting supervised learning models**: the common API for all scikit-learn models.\n",
    "4. **Metrics of goodness of fit**: the common API for all metrics on goodness of fit.\n",
    "5. **Cross validation and parameter selection**: tools for efficient cross validation of models on datasets and how these can be used to get the __best__ fitting parameters.\n",
    "6. **Dimensionality reduction basics**: A small view of `sklearn.decomposition` and how to reduce features dimensionality.\n",
    "7. **Processing pipes**: Putting everything together in data processing pipes.\n",
    "\n",
    "---"
   ]
  },
  {
   "cell_type": "markdown",
   "metadata": {},
   "source": [
    "### Datasets\n",
    "Scikit-learn comes with some built-in datasets for use. These are in the module `dataset`."
   ]
  },
  {
   "cell_type": "code",
   "execution_count": 2,
   "metadata": {},
   "outputs": [
    {
     "data": {
      "text/plain": [
       "['DESCR', 'data', 'feature_names', 'filename', 'target', 'target_names']"
      ]
     },
     "execution_count": 2,
     "metadata": {},
     "output_type": "execute_result"
    }
   ],
   "source": [
    "from sklearn import datasets\n",
    "iris = datasets.load_iris()\n",
    "dir(iris)"
   ]
  },
  {
   "cell_type": "markdown",
   "metadata": {},
   "source": [
    "Each datasets contains input data (the `data` key in the dictionary), targets, and input and target names. It may contain also additional information, e.g. raw images in case of image datasets. Pandas dataframes can be used as well."
   ]
  },
  {
   "cell_type": "code",
   "execution_count": 3,
   "metadata": {},
   "outputs": [
    {
     "name": "stdout",
     "output_type": "stream",
     "text": [
      "These are the attibutes of digits  ['DESCR', 'data', 'images', 'target', 'target_names']\n"
     ]
    },
    {
     "data": {
      "text/plain": [
       "<matplotlib.image.AxesImage at 0x7f321dbf0940>"
      ]
     },
     "execution_count": 3,
     "metadata": {},
     "output_type": "execute_result"
    },
    {
     "data": {
      "image/png": "[encoded data removed]",
      "text/plain": [
       "<Figure size 432x288 with 1 Axes>"
      ]
     },
     "metadata": {
      "needs_background": "light"
     },
     "output_type": "display_data"
    }
   ],
   "source": [
    "digits = datasets.load_digits()\n",
    "print(\"These are the attibutes of digits \", dir(digits))\n",
    "plt.imshow(digits.images[-1], cmap=plt.cm.gray_r) "
   ]
  },
  {
   "cell_type": "code",
   "execution_count": 4,
   "metadata": {},
   "outputs": [
    {
     "name": "stdout",
     "output_type": "stream",
     "text": [
      "<class 'numpy.ndarray'>\n",
      "(1797, 8, 8)\n",
      "[[ 0.  0. 10. 14.  8.  1.  0.  0.]\n",
      " [ 0.  2. 16. 14.  6.  1.  0.  0.]\n",
      " [ 0.  0. 15. 15.  8. 15.  0.  0.]\n",
      " [ 0.  0.  5. 16. 16. 10.  0.  0.]\n",
      " [ 0.  0. 12. 15. 15. 12.  0.  0.]\n",
      " [ 0.  4. 16.  6.  4. 16.  6.  0.]\n",
      " [ 0.  8. 16. 10.  8. 16.  8.  0.]\n",
      " [ 0.  1.  8. 12. 14. 12.  1.  0.]]\n"
     ]
    }
   ],
   "source": [
    "print(type(digits.images[-1]))\n",
    "#these are 8x8 pixels images . \n",
    "print(digits.images.shape)\n",
    "print(digits.images[-1])\n"
   ]
  },
  {
   "cell_type": "markdown",
   "metadata": {},
   "source": [
    "### How should the data be arranged to be able to work with scikit-learn\n",
    "* The training data must be a 2-D array with shape `(n_samples, n_features)`\n",
    "* In supervised learning contexts, the must be a 1-D array with `(n_samples,)` elements.\n",
    "\n",
    "Datasets in scikit-learn consist of the input array and of the target vector, passed separately to functions (and stored in separate variables). Input data is a numpy array with two dimensions. Rows contain single data points, columns cointain features."
   ]
  },
  {
   "cell_type": "code",
   "execution_count": 5,
   "metadata": {},
   "outputs": [
    {
     "name": "stdout",
     "output_type": "stream",
     "text": [
      "[[ 0.  0. 10. 14.  8.  1.  0.  0.  0.  2. 16. 14.  6.  1.  0.  0.  0.  0.\n",
      "  15. 15.  8. 15.  0.  0.  0.  0.  5. 16. 16. 10.  0.  0.  0.  0. 12. 15.\n",
      "  15. 12.  0.  0.  0.  4. 16.  6.  4. 16.  6.  0.  0.  8. 16. 10.  8. 16.\n",
      "   8.  0.  0.  1.  8. 12. 14. 12.  1.  0.]]\n"
     ]
    },
    {
     "data": {
      "text/plain": [
       "array([[ 0.,  0.,  5., ...,  0.,  0.,  0.],\n",
       "       [ 0.,  0.,  0., ..., 10.,  0.,  0.],\n",
       "       [ 0.,  0.,  0., ..., 16.,  9.,  0.],\n",
       "       ...,\n",
       "       [ 0.,  0.,  1., ...,  6.,  0.,  0.],\n",
       "       [ 0.,  0.,  2., ..., 12.,  0.,  0.],\n",
       "       [ 0.,  0., 10., ..., 12.,  1.,  0.]])"
      ]
     },
     "execution_count": 5,
     "metadata": {},
     "output_type": "execute_result"
    }
   ],
   "source": [
    "# we can in principle reshape the image to trasnform in into a dataset\n",
    "#this transforms a single input point in a row\n",
    "print(digits.images[-1].reshape((1, -1))) \n",
    "# this transforms the whole input images into a row\n",
    "digits.images.reshape((digits.images.shape[0], -1))"
   ]
  },
  {
   "cell_type": "code",
   "execution_count": 6,
   "metadata": {},
   "outputs": [
    {
     "name": "stdout",
     "output_type": "stream",
     "text": [
      "[[ 0.  0.  5. ...  0.  0.  0.]\n",
      " [ 0.  0.  0. ... 10.  0.  0.]\n",
      " [ 0.  0.  0. ... 16.  9.  0.]\n",
      " ...\n",
      " [ 0.  0.  1. ...  6.  0.  0.]\n",
      " [ 0.  0.  2. ... 12.  0.  0.]\n",
      " [ 0.  0. 10. ... 12.  1.  0.]]\n"
     ]
    }
   ],
   "source": [
    "#though the dataset is already prepared!\n",
    "print(digits.data)"
   ]
  },
  {
   "cell_type": "markdown",
   "metadata": {},
   "source": [
    "# Exercises\n",
    "1. Find the list of the available datasets\n",
    "2. Fetch the boston housing dataset and create a pandas.DataFrame with it (add the target values as a column in the DataFrame)\n",
    "---"
   ]
  },
  {
   "cell_type": "markdown",
   "metadata": {},
   "source": [
    "#### Basic Operations on  Datasets\n",
    "A cool thing of scikit-learn is that is has functions to perform routine operations on datasets, including: \n",
    "* generating Test and Train datasets. The relevant function is `train_test_split` from the module `model_selection`.\n",
    "* Standardising input data. The function scale of the module `preprocessing` provides a quick and easy way to perform this operation on a single array-like dataset.\n"
   ]
  },
  {
   "cell_type": "code",
   "execution_count": 7,
   "metadata": {},
   "outputs": [
    {
     "name": "stdout",
     "output_type": "stream",
     "text": [
      "(150, 4) (150,)\n",
      "(90, 4) (60, 4)\n"
     ]
    }
   ],
   "source": [
    "from sklearn.model_selection import train_test_split\n",
    "\n",
    "#default test_size is 0.25\n",
    "#random state is the seed of the random sampler used to generate test and train datasets\n",
    "#data and target must have the same number of rows, i.e. same first coordinate of shape\n",
    "print(iris.data.shape,iris.target.shape)\n",
    "iris_X_train, iris_X_test, iris_y_train, iris_y_test = \\\n",
    "    train_test_split(iris.data, iris.target, test_size=0.4, random_state=0)\n",
    "\n",
    "print(iris_X_train.shape, iris_X_test.shape)"
   ]
  },
  {
   "cell_type": "markdown",
   "metadata": {},
   "source": [
    "A very important parameter of `train_test_split` is `stratify`. If left as `None`, `train_test_split` will uniformly randomly select rows to use in the train and test sets. This criteria may produce unbalanced sets (i.e. the label distribution may be different between the train and test sets). For very big datasets, or datasets are well balanced to begin with, this is usually not a problem; but when the datasets are smaller, this can have serious consequences. For example, it may happen that some labels can be completely abscent in the train or test set, and the learnt models will work poorly.\n",
    "\n",
    "If you supply an array to `stratify`, the train and test split is done on the rows corresponding to each of the unique values of the array."
   ]
  },
  {
   "cell_type": "code",
   "execution_count": 8,
   "metadata": {},
   "outputs": [
    {
     "name": "stdout",
     "output_type": "stream",
     "text": [
      "Without stratify\n",
      "original\n",
      "{0: 0.3333333333333333, 1: 0.3333333333333333, 2: 0.3333333333333333}\n",
      "---\n",
      "train\n",
      "{0: 0.37777777777777777, 1: 0.3, 2: 0.32222222222222224}\n",
      "---\n",
      "test\n",
      "{0: 0.26666666666666666, 1: 0.38333333333333336, 2: 0.35}\n",
      "---\n",
      "\n",
      "Using stratify\n",
      "original\n",
      "{0: 0.3333333333333333, 1: 0.3333333333333333, 2: 0.3333333333333333}\n",
      "---\n",
      "train\n",
      "{0: 0.3333333333333333, 1: 0.3333333333333333, 2: 0.3333333333333333}\n",
      "---\n",
      "test\n",
      "{0: 0.3333333333333333, 1: 0.3333333333333333, 2: 0.3333333333333333}\n",
      "---\n"
     ]
    }
   ],
   "source": [
    "# First lets see the label distribution for the train and test sets without stratification.\n",
    "# np.unique(iris.target, return_counts=True)\n",
    "iris_X_train, iris_X_test, iris_y_train, iris_y_test = \\\n",
    "    train_test_split(iris.data, iris.target, test_size=0.4, random_state=0)\n",
    "print('Without stratify')\n",
    "a = {'original': iris.target,\n",
    "     'train': iris_y_train,\n",
    "     'test': iris_y_test}\n",
    "for kind, vals in a.items():\n",
    "    print(kind)\n",
    "    print({label: c / len(vals) for label, c in zip(*np.unique(vals, return_counts=True))})\n",
    "    print('---')\n",
    "\n",
    "# Now lets see what happens when we use stratify\n",
    "\n",
    "iris_X_train2, iris_X_test2, iris_y_train2, iris_y_test2 = \\\n",
    "    train_test_split(iris.data, iris.target, test_size=0.4, random_state=0,\n",
    "                     stratify=iris.target)\n",
    "a = {'original': iris.target,\n",
    "     'train': iris_y_train2,\n",
    "     'test': iris_y_test2}\n",
    "print('\\nUsing stratify')\n",
    "for kind, vals in a.items():\n",
    "    print(kind)\n",
    "    print({label: c / len(vals) for label, c in zip(*np.unique(vals, return_counts=True))})\n",
    "    print('---')"
   ]
  },
  {
   "cell_type": "markdown",
   "metadata": {},
   "source": [
    "# Exercise\n",
    "\n",
    "1. Load the digits dataset, and split it in train and test sets (20% of the data must be in the test), stratified according to the target value.\n",
    "\n",
    "---"
   ]
  },
  {
   "cell_type": "markdown",
   "metadata": {},
   "source": [
    "#### Transformer API and Preprocessing\n",
    "Scikit-learn has some API/ interfaces which are very useful to automate the learning process.\n",
    "As data preprocessing has an important role in learning - typically dataset are standardised or normalised in some way - there several classes implementing the Transformer API. \n",
    "\n",
    "The two relevant methods of a transformer object are `fit()` and `transform()`. The first one is used to train the transformer, e.g. define the standardisation for each feature, the second one to apply the transformation to novel data. Transformer objects can be trained on the train datasets and then applied to test datasets, hence they should be the methods of choice.  \n",
    "\n",
    "Data preprocessing is usually performed through the `Scaler` objects, which are of several types:\n",
    "* `StandardScaler` performs classic standardisation;\n",
    "* `MinMaxScaler` normalises data into [0,1], where 0 is the minimum and 1 is the maximum of each feature, but different ranges can be specified as well;\n",
    "* `MaxAbsScaler` divides each feature for the absolute value, hence data is scaled in [-1,1];\n",
    "* `RobustScaler` deals better with data with outliers, as it removes the median and scales the data according to the quantile range;\n",
    "\n",
    "Other methods perform non-linear transformations:\n",
    "* `QuantileTransformer` performs a non-linear transformation using quantiles. Better for outliers, but being non-linear, it breaks the correlation. \n",
    "* `Normalizer` scales individual samples to have unit norm. "
   ]
  },
  {
   "cell_type": "code",
   "execution_count": 9,
   "metadata": {},
   "outputs": [
    {
     "name": "stdout",
     "output_type": "stream",
     "text": [
      "Non standardised\n",
      " [[6.  3.4 4.5 1.6]\n",
      " [4.8 3.1 1.6 0.2]\n",
      " [5.8 2.7 5.1 1.9]\n",
      " [5.6 2.7 4.2 1.3]\n",
      " [5.6 2.9 3.6 1.3]]\n",
      "Standardised\n",
      " [[ 0.18206758  0.71103882  0.45664061  0.55799544]\n",
      " [-1.17402201  0.00522823 -1.10334891 -1.19530695]\n",
      " [-0.04394735 -0.93585257  0.77939706  0.9337031 ]\n",
      " [-0.26996228 -0.93585257  0.29526238  0.18228779]\n",
      " [-0.26996228 -0.46531217 -0.02749407  0.18228779]]\n"
     ]
    }
   ],
   "source": [
    "from sklearn import preprocessing\n",
    "\n",
    "iris_X_scaled = preprocessing.scale(iris_X_train)\n",
    "print(\"Non standardised\\n\",iris_X_train[:5,:])\n",
    "print(\"Standardised\\n\",iris_X_scaled[:5,:])"
   ]
  },
  {
   "cell_type": "code",
   "execution_count": 10,
   "metadata": {},
   "outputs": [
    {
     "name": "stdout",
     "output_type": "stream",
     "text": [
      "Non standardised\n",
      " [[5.8 2.8 5.1 2.4]\n",
      " [6.  2.2 4.  1. ]\n",
      " [5.5 4.2 1.4 0.2]\n",
      " [7.3 2.9 6.3 1.8]\n",
      " [5.  3.4 1.5 0.2]]\n",
      "Standardised\n",
      " [[-0.04394735 -0.70058237  0.77939706  1.55988252]\n",
      " [ 0.18206758 -2.11220356  0.1876769  -0.19341987]\n",
      " [-0.38296975  2.59320041 -1.21093439 -1.19530695]\n",
      " [ 1.65116464 -0.46531217  1.42490997  0.80846721]\n",
      " [-0.94800707  0.71103882 -1.15714165 -1.19530695]]\n"
     ]
    }
   ],
   "source": [
    "scaler = preprocessing.StandardScaler().fit(iris_X_train)\n",
    "iris_X_scaled = scaler.transform(iris_X_train)\n",
    "iris_X_test_scaled = scaler.transform(iris_X_test)\n",
    "\n",
    "print(\"Non standardised\\n\",iris_X_test[:5,:])\n",
    "print(\"Standardised\\n\",iris_X_test_scaled[:5,:])"
   ]
  },
  {
   "cell_type": "code",
   "execution_count": 11,
   "metadata": {},
   "outputs": [
    {
     "name": "stdout",
     "output_type": "stream",
     "text": [
      "Non standardised\n",
      " [[5.8 2.8 5.1 2.4]\n",
      " [6.  2.2 4.  1. ]\n",
      " [5.5 4.2 1.4 0.2]\n",
      " [7.3 2.9 6.3 1.8]\n",
      " [5.  3.4 1.5 0.2]]\n",
      "Standardised\n",
      " [[0.41666667 0.27272727 0.68965517 0.95833333]\n",
      " [0.47222222 0.         0.5        0.375     ]\n",
      " [0.33333333 0.90909091 0.05172414 0.04166667]\n",
      " [0.83333333 0.31818182 0.89655172 0.70833333]\n",
      " [0.19444444 0.54545455 0.06896552 0.04166667]]\n"
     ]
    }
   ],
   "source": [
    "scaler = preprocessing.MinMaxScaler().fit(iris_X_train)\n",
    "iris_X_scaled = scaler.transform(iris_X_train)\n",
    "iris_X_test_scaled = scaler.transform(iris_X_test)\n",
    "\n",
    "print(\"Non standardised\\n\",iris_X_test[:5,:])\n",
    "print(\"Standardised\\n\",iris_X_test_scaled[:5,:])"
   ]
  },
  {
   "cell_type": "code",
   "execution_count": 12,
   "metadata": {},
   "outputs": [
    {
     "name": "stdout",
     "output_type": "stream",
     "text": [
      "Help on class MinMaxScaler in module sklearn.preprocessing.data:\n",
      "\n",
      "class MinMaxScaler(sklearn.base.BaseEstimator, sklearn.base.TransformerMixin)\n",
      " |  Transforms features by scaling each feature to a given range.\n",
      " |  \n",
      " |  This estimator scales and translates each feature individually such\n",
      " |  that it is in the given range on the training set, e.g. between\n",
      " |  zero and one.\n",
      " |  \n",
      " |  The transformation is given by::\n",
      " |  \n",
      " |      X_std = (X - X.min(axis=0)) / (X.max(axis=0) - X.min(axis=0))\n",
      " |      X_scaled = X_std * (max - min) + min\n",
      " |  \n",
      " |  where min, max = feature_range.\n",
      " |  \n",
      " |  This transformation is often used as an alternative to zero mean,\n",
      " |  unit variance scaling.\n",
      " |  \n",
      " |  Read more in the :ref:`User Guide <preprocessing_scaler>`.\n",
      " |  \n",
      " |  Parameters\n",
      " |  ----------\n",
      " |  feature_range : tuple (min, max), default=(0, 1)\n",
      " |      Desired range of transformed data.\n",
      " |  \n",
      " |  copy : boolean, optional, default True\n",
      " |      Set to False to perform inplace row normalization and avoid a\n",
      " |      copy (if the input is already a numpy array).\n",
      " |  \n",
      " |  Attributes\n",
      " |  ----------\n",
      " |  min_ : ndarray, shape (n_features,)\n",
      " |      Per feature adjustment for minimum.\n",
      " |  \n",
      " |  scale_ : ndarray, shape (n_features,)\n",
      " |      Per feature relative scaling of the data.\n",
      " |  \n",
      " |      .. versionadded:: 0.17\n",
      " |         *scale_* attribute.\n",
      " |  \n",
      " |  data_min_ : ndarray, shape (n_features,)\n",
      " |      Per feature minimum seen in the data\n",
      " |  \n",
      " |      .. versionadded:: 0.17\n",
      " |         *data_min_*\n",
      " |  \n",
      " |  data_max_ : ndarray, shape (n_features,)\n",
      " |      Per feature maximum seen in the data\n",
      " |  \n",
      " |      .. versionadded:: 0.17\n",
      " |         *data_max_*\n",
      " |  \n",
      " |  data_range_ : ndarray, shape (n_features,)\n",
      " |      Per feature range ``(data_max_ - data_min_)`` seen in the data\n",
      " |  \n",
      " |      .. versionadded:: 0.17\n",
      " |         *data_range_*\n",
      " |  \n",
      " |  Examples\n",
      " |  --------\n",
      " |  >>> from sklearn.preprocessing import MinMaxScaler\n",
      " |  \n",
      " |  >>> data = [[-1, 2], [-0.5, 6], [0, 10], [1, 18]]\n",
      " |  >>> scaler = MinMaxScaler()\n",
      " |  >>> print(scaler.fit(data))\n",
      " |  MinMaxScaler(copy=True, feature_range=(0, 1))\n",
      " |  >>> print(scaler.data_max_)\n",
      " |  [ 1. 18.]\n",
      " |  >>> print(scaler.transform(data))\n",
      " |  [[0.   0.  ]\n",
      " |   [0.25 0.25]\n",
      " |   [0.5  0.5 ]\n",
      " |   [1.   1.  ]]\n",
      " |  >>> print(scaler.transform([[2, 2]]))\n",
      " |  [[1.5 0. ]]\n",
      " |  \n",
      " |  See also\n",
      " |  --------\n",
      " |  minmax_scale: Equivalent function without the estimator API.\n",
      " |  \n",
      " |  Notes\n",
      " |  -----\n",
      " |  NaNs are treated as missing values: disregarded in fit, and maintained in\n",
      " |  transform.\n",
      " |  \n",
      " |  For a comparison of the different scalers, transformers, and normalizers,\n",
      " |  see :ref:`examples/preprocessing/plot_all_scaling.py\n",
      " |  <sphx_glr_auto_examples_preprocessing_plot_all_scaling.py>`.\n",
      " |  \n",
      " |  Method resolution order:\n",
      " |      MinMaxScaler\n",
      " |      sklearn.base.BaseEstimator\n",
      " |      sklearn.base.TransformerMixin\n",
      " |      builtins.object\n",
      " |  \n",
      " |  Methods defined here:\n",
      " |  \n",
      " |  __init__(self, feature_range=(0, 1), copy=True)\n",
      " |      Initialize self.  See help(type(self)) for accurate signature.\n",
      " |  \n",
      " |  fit(self, X, y=None)\n",
      " |      Compute the minimum and maximum to be used for later scaling.\n",
      " |      \n",
      " |      Parameters\n",
      " |      ----------\n",
      " |      X : array-like, shape [n_samples, n_features]\n",
      " |          The data used to compute the per-feature minimum and maximum\n",
      " |          used for later scaling along the features axis.\n",
      " |  \n",
      " |  inverse_transform(self, X)\n",
      " |      Undo the scaling of X according to feature_range.\n",
      " |      \n",
      " |      Parameters\n",
      " |      ----------\n",
      " |      X : array-like, shape [n_samples, n_features]\n",
      " |          Input data that will be transformed. It cannot be sparse.\n",
      " |  \n",
      " |  partial_fit(self, X, y=None)\n",
      " |      Online computation of min and max on X for later scaling.\n",
      " |      All of X is processed as a single batch. This is intended for cases\n",
      " |      when `fit` is not feasible due to very large number of `n_samples`\n",
      " |      or because X is read from a continuous stream.\n",
      " |      \n",
      " |      Parameters\n",
      " |      ----------\n",
      " |      X : array-like, shape [n_samples, n_features]\n",
      " |          The data used to compute the mean and standard deviation\n",
      " |          used for later scaling along the features axis.\n",
      " |      \n",
      " |      y\n",
      " |          Ignored\n",
      " |  \n",
      " |  transform(self, X)\n",
      " |      Scaling features of X according to feature_range.\n",
      " |      \n",
      " |      Parameters\n",
      " |      ----------\n",
      " |      X : array-like, shape [n_samples, n_features]\n",
      " |          Input data that will be transformed.\n",
      " |  \n",
      " |  ----------------------------------------------------------------------\n",
      " |  Methods inherited from sklearn.base.BaseEstimator:\n",
      " |  \n",
      " |  __getstate__(self)\n",
      " |  \n",
      " |  __repr__(self)\n",
      " |      Return repr(self).\n",
      " |  \n",
      " |  __setstate__(self, state)\n",
      " |  \n",
      " |  get_params(self, deep=True)\n",
      " |      Get parameters for this estimator.\n",
      " |      \n",
      " |      Parameters\n",
      " |      ----------\n",
      " |      deep : boolean, optional\n",
      " |          If True, will return the parameters for this estimator and\n",
      " |          contained subobjects that are estimators.\n",
      " |      \n",
      " |      Returns\n",
      " |      -------\n",
      " |      params : mapping of string to any\n",
      " |          Parameter names mapped to their values.\n",
      " |  \n",
      " |  set_params(self, **params)\n",
      " |      Set the parameters of this estimator.\n",
      " |      \n",
      " |      The method works on simple estimators as well as on nested objects\n",
      " |      (such as pipelines). The latter have parameters of the form\n",
      " |      ``<component>__<parameter>`` so that it's possible to update each\n",
      " |      component of a nested object.\n",
      " |      \n",
      " |      Returns\n",
      " |      -------\n",
      " |      self\n",
      " |  \n",
      " |  ----------------------------------------------------------------------\n",
      " |  Data descriptors inherited from sklearn.base.BaseEstimator:\n",
      " |  \n",
      " |  __dict__\n",
      " |      dictionary for instance variables (if defined)\n",
      " |  \n",
      " |  __weakref__\n",
      " |      list of weak references to the object (if defined)\n",
      " |  \n",
      " |  ----------------------------------------------------------------------\n",
      " |  Methods inherited from sklearn.base.TransformerMixin:\n",
      " |  \n",
      " |  fit_transform(self, X, y=None, **fit_params)\n",
      " |      Fit to data, then transform it.\n",
      " |      \n",
      " |      Fits transformer to X and y with optional parameters fit_params\n",
      " |      and returns a transformed version of X.\n",
      " |      \n",
      " |      Parameters\n",
      " |      ----------\n",
      " |      X : numpy array of shape [n_samples, n_features]\n",
      " |          Training set.\n",
      " |      \n",
      " |      y : numpy array of shape [n_samples]\n",
      " |          Target values.\n",
      " |      \n",
      " |      Returns\n",
      " |      -------\n",
      " |      X_new : numpy array of shape [n_samples, n_features_new]\n",
      " |          Transformed array.\n",
      "\n"
     ]
    }
   ],
   "source": [
    "#Each scaler has some options, use help or refer to scikit-learn manual!\n",
    "help(preprocessing.MinMaxScaler) "
   ]
  },
  {
   "cell_type": "markdown",
   "metadata": {},
   "source": [
    "# Exercise\n",
    "\n",
    "1. Fetch the california housing dataset. Grab the 'MedInc' and 'AveOccup' feature data values. Plot the joint distribution after scaling them using the `StandardScaler`, the `QuantileTransformer` and the `Normalizer`. For a thorough comparison you can look up [here](https://scikit-learn.org/stable/auto_examples/preprocessing/plot_all_scaling.html#sphx-glr-auto-examples-preprocessing-plot-all-scaling-py).\n",
    "\n",
    "---"
   ]
  },
  {
   "cell_type": "markdown",
   "metadata": {},
   "source": [
    "### Supervised Learning\n",
    "Regression and classification in scikit-learn follow a [similar pattern](https://scikit-learn.org/stable/glossary.html#class-apis-and-estimator-types). Different methods are based on instances of the `Estimator` class, which provides methods to fit the estimator - `fit()`, to predict on new data - `predict()`, and to score the model - `score()`.   \n",
    "\n",
    "We will start with an example on linear regression, on a diabetis dataset. The diabetes dataset consists of 10 physiological variables (age, sex, weight, blood pressure) measured on 442 patients, and an indication of disease progression after one year.\n",
    "\n",
    "For linear regression, there is the module `linear_model`, which has several implementation of linear regression, the basic one and some regularised versions. \n"
   ]
  },
  {
   "cell_type": "code",
   "execution_count": 13,
   "metadata": {},
   "outputs": [],
   "source": [
    "# preparing the dataset\n",
    "diabetes = datasets.load_diabetes()\n",
    "diabetes_X_train, diabetes_X_test, diabetes_y_train, diabetes_y_test \\\n",
    "    = train_test_split(diabetes.data, diabetes.target, random_state=0)\n",
    "scaler = preprocessing.StandardScaler().fit(diabetes_X_train)   \n",
    "diabetes_X_train = scaler.transform(diabetes_X_train)\n",
    "# Note that we fit the scaler on the training data and transform the test data\n",
    "# This helps prevent a phenomenon called leakage https://scikit-learn.org/stable/glossary.html#term-leakage\n",
    "diabetes_X_test = scaler.transform(diabetes_X_test)"
   ]
  },
  {
   "cell_type": "code",
   "execution_count": 14,
   "metadata": {},
   "outputs": [
    {
     "name": "stdout",
     "output_type": "stream",
     "text": [
      "[ -2.08201439  -9.93774758  28.8548248   14.33603969 -26.52011217\n",
      "  12.38436283  -0.42239104   6.59599005  34.458465     1.41463977]\n",
      "Explained variance score: 0.35940090989715545\n"
     ]
    }
   ],
   "source": [
    "from sklearn import linear_model\n",
    "regressor = linear_model.LinearRegression()\n",
    "regressor.fit(diabetes_X_train, diabetes_y_train)\n",
    "print(regressor.coef_)\n",
    "print(\"Explained variance score:\", regressor.score(diabetes_X_test, diabetes_y_test))"
   ]
  },
  {
   "cell_type": "markdown",
   "metadata": {},
   "source": [
    "The explained variance regression score measures the fraction of variance which is captured by the regression models. \n",
    "If yp is the estimated target output, and y the corresponding (correct) target output, and Var is the Variance, the square of the standard deviation, then the explained variance is estimated as follow:\n",
    "\n",
    "$$explained\\_variance\\left(y,\\hat{y}\\right) = 1 - \\frac{Var\\left[y-\\hat{y}\\right]}{Var[y]}$$"
   ]
  },
  {
   "cell_type": "code",
   "execution_count": 15,
   "metadata": {},
   "outputs": [
    {
     "data": {
      "text/plain": [
       "[<matplotlib.lines.Line2D at 0x7f321dbd5e48>]"
      ]
     },
     "execution_count": 15,
     "metadata": {},
     "output_type": "execute_result"
    },
    {
     "data": {
      "image/png": "[encoded data removed]",
      "text/plain": [
       "<Figure size 432x288 with 1 Axes>"
      ]
     },
     "metadata": {
      "needs_background": "light"
     },
     "output_type": "display_data"
    }
   ],
   "source": [
    "#We can use predict on a matrix, and get a vector of predictions. \n",
    "y_predict = regressor.predict(diabetes_X_test)\n",
    "plt.figure()\n",
    "plt.scatter(diabetes_y_test,y_predict)\n",
    "plt.plot(np.linspace(0,350,100),np.linspace(0,350,100))\n"
   ]
  },
  {
   "cell_type": "markdown",
   "metadata": {},
   "source": [
    "In the module `linear_model`, we have several linear classifiers, including some that are regularised, in particular `Ridge` and `Lasso` regression. These can be used similarly to the linear classifier above, "
   ]
  },
  {
   "cell_type": "code",
   "execution_count": 16,
   "metadata": {},
   "outputs": [
    {
     "name": "stdout",
     "output_type": "stream",
     "text": [
      "Explained variance score: 0.3592094993114011\n"
     ]
    },
    {
     "data": {
      "text/plain": [
       "[<matplotlib.lines.Line2D at 0x7f321d8cd9e8>]"
      ]
     },
     "execution_count": 16,
     "metadata": {},
     "output_type": "execute_result"
    },
    {
     "data": {
      "image/png": "[encoded data removed]",
      "text/plain": [
       "<Figure size 432x288 with 1 Axes>"
      ]
     },
     "metadata": {
      "needs_background": "light"
     },
     "output_type": "display_data"
    }
   ],
   "source": [
    "regressor = linear_model.Ridge(alpha=0.1)\n",
    "regressor.fit(diabetes_X_train, diabetes_y_train)\n",
    "\n",
    "print(\"Explained variance score:\", regressor.score(diabetes_X_test, diabetes_y_test))\n",
    "\n",
    "y_predict = regressor.predict(diabetes_X_test)\n",
    "plt.figure()\n",
    "plt.scatter(diabetes_y_test,y_predict)\n",
    "plt.plot(np.linspace(0,350,100),np.linspace(0,350,100))"
   ]
  },
  {
   "cell_type": "markdown",
   "metadata": {},
   "source": [
    "Both Ridge and Lasso regression depend on a coefficient of regularization, which should be estimated in the learning process. Scikit-learn exposes methods that do ridge/lasso regression and cross-validation in a single step: `RidgeCV` and `LassoCV` (there are more CV methods for Lasso, see the documentation)."
   ]
  },
  {
   "cell_type": "code",
   "execution_count": 17,
   "metadata": {},
   "outputs": [
    {
     "name": "stdout",
     "output_type": "stream",
     "text": [
      "Best alpha: 1.023292992280754\n",
      "Explained variance score: 0.35573555529892387\n"
     ]
    },
    {
     "name": "stderr",
     "output_type": "stream",
     "text": [
      "/home/lpaz/anaconda3/lib/python3.6/site-packages/sklearn/model_selection/_split.py:2053: FutureWarning: You should specify a value for 'cv' instead of relying on the default value. The default value will change from 3 to 5 in version 0.22.\n",
      "  warnings.warn(CV_WARNING, FutureWarning)\n"
     ]
    },
    {
     "data": {
      "text/plain": [
       "[<matplotlib.lines.Line2D at 0x7f321d8535f8>]"
      ]
     },
     "execution_count": 17,
     "metadata": {},
     "output_type": "execute_result"
    },
    {
     "data": {
      "image/png": "[encoded data removed]",
      "text/plain": [
       "<Figure size 432x288 with 1 Axes>"
      ]
     },
     "metadata": {
      "needs_background": "light"
     },
     "output_type": "display_data"
    }
   ],
   "source": [
    "regressor = linear_model.LassoCV(alphas=np.logspace(0.01,10,10))\n",
    "regressor.fit(diabetes_X_train, diabetes_y_train)\n",
    "print(\"Best alpha:\",regressor.alpha_)\n",
    "print(\"Explained variance score:\", regressor.score(diabetes_X_test, diabetes_y_test))\n",
    "\n",
    "y_predict = regressor.predict(diabetes_X_test)\n",
    "plt.figure()\n",
    "plt.scatter(diabetes_y_test,y_predict)\n",
    "plt.plot(np.linspace(0,350,100),np.linspace(0,350,100))"
   ]
  },
  {
   "cell_type": "markdown",
   "metadata": {},
   "source": [
    "### Exercises\n",
    "1. Build a [Bayesian ridge](https://scikit-learn.org/stable/modules/linear_model.html#bayesian-ridge-regression) regression model (available as `sklearn.linear_models.BayesianRidge`) and fit the diabetes dataset with it.\n",
    "2. What is the explained variance score you get with it?"
   ]
  },
  {
   "cell_type": "markdown",
   "metadata": {},
   "source": [
    "### Cross validation\n",
    "Setting regularisation parameters or controlling model complexity in a frequentist setting can be achieved using cross validation. Scikit learn implements a nice interface for cross validation and to optimize hyperparameters. \n",
    "\n",
    "To fully exploit cross validation, we need to use cross validation iterators, available in the module `sklearn.model_selection`. These are objects that generate the proper splits of the train dataset. Examples are:\n",
    "* `KFold` is for k fold cross validation, use `n_splits` to set the number of splits.\n",
    "* `RepeatedKFold`, like k-fold, but repeated `n_repeats` times. By setting `random_state` we can replicate experiments. \n",
    "* `LeaveOneOut` is for leave one out  (LOO) cross validation. In terms of accuracy, LOO often results in high variance as an estimator for the test error, and 5- or 10- fold cross validation should be preferred to LOO, though if the learning curve is steep for the training size in question, then 5- or 10- fold cross validation can overestimate the generalization error.\n",
    "* `ShuffleSplit` generates a user defined number of independent train / test dataset splits, with the test size specified by the option `test_size`. Samples are first shuffled and then split into a pair of train and test sets.\n",
    "It is possible to control the randomness for reproducibility of the results by explicitly seeding the `random_state` pseudo random number generator.\n",
    "* `StratifiedKFold` it's like `KFold`, but using stratified sampling, i.e. it preserves the percentage of samples of each target class as the complete set.\n",
    "\n",
    "The previous methods work with i.i.d. data, an assumption violated if the underlying generative process yield groups of dependent samples (i.e. medical data collected from multiple patients, with multiple samples taken from each patient). In this case, if we know the group for each data point, we can use `GroupKFold` or `LeaveOneGroupOut`. See the Scikit-learn [documentation](http://scikit-learn.org/stable/modules/cross_validation.html) for further details. \n",
    "\n"
   ]
  },
  {
   "cell_type": "code",
   "execution_count": 18,
   "metadata": {},
   "outputs": [
    {
     "name": "stdout",
     "output_type": "stream",
     "text": [
      "train set = [2 3]; test_set = [0 1]\n",
      "train set = [0 1]; test_set = [2 3]\n"
     ]
    }
   ],
   "source": [
    "from sklearn import model_selection\n",
    "kf_cv = model_selection.KFold(n_splits=2)\n",
    "for train, test in kf_cv.split(['a','b','c','d']):\n",
    "    print(\"train set = {}; test_set = {}\".format(train, test))\n",
    "#see the KFold outputs indices of train and test sets. "
   ]
  },
  {
   "cell_type": "markdown",
   "metadata": {},
   "source": [
    "In order to perform cross validation on a specific estimator, we can use the `cross_val_score` function, which takes as input:\n",
    "1. an estimator\n",
    "2. train and test datasets\n",
    "3. a cross_validation iterator, with the option `cv`\n",
    "4. a scoring criterion, with the option `scoring`.\n",
    "\n",
    "The method computes the scores for a fixed value of hyperparameters!\n",
    "\n",
    "The function `cross_val_predict` has a similar interface to `cross_val_score`, but returns, for each element in the input, the prediction that was obtained for that element when it was in the test set. Only cross-validation strategies that assign all elements to a test set exactly once can be used (otherwise, an exception is raised)."
   ]
  },
  {
   "cell_type": "code",
   "execution_count": 19,
   "metadata": {},
   "outputs": [
    {
     "name": "stdout",
     "output_type": "stream",
     "text": [
      "SV score: 0.47988368563401884 ± 0.04726351149223936\n",
      "predicted: 199.3607174653485 - true 151.0\n",
      "predicted: 70.04088214670875 - true 75.0\n",
      "predicted: 172.36396726559897 - true 141.0\n",
      "predicted: 160.9666310530091 - true 206.0\n",
      "predicted: 127.41797122030346 - true 135.0\n"
     ]
    }
   ],
   "source": [
    "scoring = ['explained_variance', 'neg_mean_squared_error', 'neg_mean_absolute_error', 'r2']\n",
    "regressor = linear_model.Ridge(alpha=0.1)\n",
    "kf_cv = model_selection.KFold(n_splits=5)\n",
    "\n",
    "\n",
    "scores = model_selection.cross_val_score(regressor, diabetes.data, diabetes.target, scoring='r2', cv=kf_cv)\n",
    "print(\"SV score:\", scores.mean(),\"±\",scores.std())\n",
    "\n",
    "regressor = linear_model.Ridge(alpha=0.1)\n",
    "prediction = model_selection.cross_val_predict(regressor, diabetes.data, diabetes.target, cv=kf_cv)\n",
    "for i in range(5):\n",
    "    print(\"predicted:\",prediction[i],\"- true\",diabetes.target[i])"
   ]
  },
  {
   "cell_type": "markdown",
   "metadata": {},
   "source": [
    "##### Optimizing hyperparameters with cross-validation\n",
    "In order to optimize parameters, we can rely on built-in methods in the `model_selection` module, which perform either grid search or random search. The first explores all hyperparameters combinations on a  grid (can explode computationally), whereas the second performs random search, exploring only a fixed subset of random points. \n",
    "\n",
    "Which are the hyperparameters of an estimator? We can get them using `estimator.get_params()` method. \n",
    "\n",
    "A search consists of:\n",
    "1. an estimator (regressor or classifier such as `sklearn.svm.SVC()`);\n",
    "2. a parameter space, specified as a dictionary or list of dictionaries;\n",
    "3. a cross-validation scheme; \n",
    "4. a score function.\n",
    "5. a method for searching or sampling candidates;\n",
    "\n",
    "`GridSearchCV` performs the grid search, while `RandomizedSearchCV` does the randomised search, and requires also the specification of a computational budget using the `n_iter` options. The option `n_jobs=-1` uses maximum number of parallel threads/ processes to perform the CV search. "
   ]
  },
  {
   "cell_type": "code",
   "execution_count": 20,
   "metadata": {},
   "outputs": [
    {
     "name": "stdout",
     "output_type": "stream",
     "text": [
      "{'alpha': 0.0001}\n"
     ]
    },
    {
     "name": "stderr",
     "output_type": "stream",
     "text": [
      "/home/lpaz/anaconda3/lib/python3.6/site-packages/sklearn/model_selection/_search.py:841: DeprecationWarning: The default of the `iid` parameter will change from True to False in version 0.22 and will be removed in 0.24. This will change numeric results when test-set sizes are unequal.\n",
      "  DeprecationWarning)\n"
     ]
    }
   ],
   "source": [
    "# 1. The estimator\n",
    "regressor = linear_model.Ridge()\n",
    "# 2. The parameter space (note that it is discrete!)\n",
    "parameters = {'alpha':np.logspace(-5,2,8)}\n",
    "# 3. The cross-validation scheme\n",
    "kf = model_selection.KFold(n_splits=5)\n",
    "# 4. The score function or its name\n",
    "score = 'r2'\n",
    "# 5. The method for searching candidates\n",
    "clf = model_selection.GridSearchCV(regressor,\n",
    "                                   parameters,\n",
    "                                   cv=kf,\n",
    "                                   scoring=score,\n",
    "                                   n_jobs=-1)\n",
    "# clf is a meta-estimator because builds estimates\n",
    "# combining other estimates, in our case it selects the\n",
    "# best fitting one\n",
    "clf.fit(diabetes.data, diabetes.target)\n",
    "print(clf.best_params_)\n"
   ]
  },
  {
   "cell_type": "code",
   "execution_count": 21,
   "metadata": {},
   "outputs": [
    {
     "name": "stdout",
     "output_type": "stream",
     "text": [
      "0.48229 (+/-0.099) for {'alpha': 1e-05}\n",
      "0.48229 (+/-0.098) for {'alpha': 0.0001}\n",
      "0.48228 (+/-0.098) for {'alpha': 0.001}\n",
      "0.48140 (+/-0.097) for {'alpha': 0.01}\n",
      "0.47982 (+/-0.095) for {'alpha': 0.1}\n",
      "0.41004 (+/-0.090) for {'alpha': 1.0}\n",
      "0.13822 (+/-0.072) for {'alpha': 10.0}\n",
      "-0.00478 (+/-0.073) for {'alpha': 100.0}\n"
     ]
    }
   ],
   "source": [
    "means = clf.cv_results_['mean_test_score']\n",
    "stds = clf.cv_results_['std_test_score']\n",
    "for mean, std, params in zip(means, stds, clf.cv_results_['params']):\n",
    "        print(\"%0.5f (+/-%0.3f) for %r\" % (mean, std * 2, params))"
   ]
  },
  {
   "cell_type": "code",
   "execution_count": 22,
   "metadata": {},
   "outputs": [
    {
     "name": "stdout",
     "output_type": "stream",
     "text": [
      "{'alpha': 0.00030774959334394625}\n",
      "0.48230 (+/-0.098) for {'alpha': 0.0004581910894742441}\n",
      "0.48229 (+/-0.098) for {'alpha': 2.827666905312805e-05}\n",
      "0.48229 (+/-0.098) for {'alpha': 8.493737307469202e-05}\n",
      "0.48224 (+/-0.098) for {'alpha': 0.0014660084331516168}\n",
      "0.48230 (+/-0.098) for {'alpha': 0.00030774959334394625}\n",
      "0.48227 (+/-0.098) for {'alpha': 0.0010656673359155245}\n",
      "0.48225 (+/-0.098) for {'alpha': 0.0014331006108517985}\n",
      "0.48202 (+/-0.097) for {'alpha': 0.0035004565357865227}\n",
      "0.48230 (+/-0.098) for {'alpha': 0.000631893155544593}\n",
      "0.48230 (+/-0.098) for {'alpha': 0.00021914228569845708}\n"
     ]
    }
   ],
   "source": [
    "from scipy import stats\n",
    "regressor = linear_model.Ridge()\n",
    "# note, for randomised search we pass a random number\n",
    "# generator, like the ones that come with scipy.stats\n",
    "parameters = {'alpha': stats.expon(scale=0.001)}\n",
    "score = 'r2'\n",
    "kf = model_selection.KFold(n_splits=5)\n",
    "clf = model_selection.RandomizedSearchCV(regressor, parameters,cv=kf,scoring=score,n_jobs=-1,n_iter = 10)\n",
    "clf.fit(diabetes.data, diabetes.target)\n",
    "print(clf.best_params_)\n",
    "\n",
    "means = clf.cv_results_['mean_test_score']\n",
    "stds = clf.cv_results_['std_test_score']\n",
    "for mean, std, params in zip(means, stds, clf.cv_results_['params']):\n",
    "        print(\"%0.5f (+/-%0.3f) for %r\" % (mean, std * 2, params))\n"
   ]
  },
  {
   "cell_type": "markdown",
   "metadata": {},
   "source": [
    "### Classification\n",
    "Classification is a task similar to regression in Scikit-learn, we just need to instantiate the proper objects. \n",
    "`LogisticRegression` is probably the most famous classifier, and in Scikit-learn comes with a built-in regularization L2 regularization. `C` here control the regularization strenght, but the larger it is the less regularization! L1 penalty can be set by `penalty='l1'` option."
   ]
  },
  {
   "cell_type": "code",
   "execution_count": 23,
   "metadata": {},
   "outputs": [
    {
     "name": "stdout",
     "output_type": "stream",
     "text": [
      "Classification accuracy: 0.9666666666666667\n"
     ]
    },
    {
     "name": "stderr",
     "output_type": "stream",
     "text": [
      "/home/lpaz/anaconda3/lib/python3.6/site-packages/sklearn/linear_model/logistic.py:433: FutureWarning: Default solver will be changed to 'lbfgs' in 0.22. Specify a solver to silence this warning.\n",
      "  FutureWarning)\n",
      "/home/lpaz/anaconda3/lib/python3.6/site-packages/sklearn/linear_model/logistic.py:460: FutureWarning: Default multi_class will be changed to 'auto' in 0.22. Specify the multi_class option to silence this warning.\n",
      "  \"this warning.\", FutureWarning)\n"
     ]
    }
   ],
   "source": [
    "logistic = linear_model.LogisticRegression(C=1e5)\n",
    "logistic.fit(iris_X_train, iris_y_train)\n",
    "print(\"Classification accuracy:\",logistic.score(iris_X_test,iris_y_test))"
   ]
  },
  {
   "cell_type": "markdown",
   "metadata": {},
   "source": [
    "There are many classification algorithms in Scikit-learn, like nearest neighbours, decision trees, support vector machines, and many others. "
   ]
  },
  {
   "cell_type": "code",
   "execution_count": 24,
   "metadata": {},
   "outputs": [
    {
     "name": "stdout",
     "output_type": "stream",
     "text": [
      "Classification accuracy: 0.95\n"
     ]
    }
   ],
   "source": [
    "from sklearn import neighbors\n",
    "\n",
    "neigh_class = neighbors.KNeighborsClassifier(n_neighbors=5, weights=\"distance\")\n",
    "neigh_class.fit(iris_X_train, iris_y_train)\n",
    "print(\"Classification accuracy:\",neigh_class.score(iris_X_test,iris_y_test))"
   ]
  },
  {
   "cell_type": "code",
   "execution_count": 25,
   "metadata": {},
   "outputs": [
    {
     "name": "stdout",
     "output_type": "stream",
     "text": [
      "Classification accuracy (linear): 0.9666666666666667\n",
      "Classification accuracy (poly): 0.9666666666666667\n",
      "Classification accuracy (rbf): 0.95\n"
     ]
    }
   ],
   "source": [
    "from sklearn import svm\n",
    "\n",
    "svc = svm.SVC(kernel='linear', C = 1, gamma='auto')\n",
    "svc.fit(iris_X_train, iris_y_train)    \n",
    "print(\"Classification accuracy (linear):\", svc.score(iris_X_test,iris_y_test))\n",
    "\n",
    "svc = svm.SVC(kernel='poly', degree=3, gamma='auto')\n",
    "svc.fit(iris_X_train, iris_y_train)    \n",
    "print(\"Classification accuracy (poly):\", svc.score(iris_X_test,iris_y_test))\n",
    "\n",
    "\n",
    "svc = svm.SVC(kernel='rbf',C=1.0, gamma='auto')\n",
    "svc.fit(iris_X_train, iris_y_train)    \n",
    "print(\"Classification accuracy (rbf):\", svc.score(iris_X_test,iris_y_test))"
   ]
  },
  {
   "cell_type": "markdown",
   "metadata": {},
   "source": [
    "When specifying a parameter space for grid (or random) search, we can also pass a list of dictionaries, like in the following set of parameters for SVC. \n",
    "```\n",
    "param_grid = [\n",
    "  {'C': [1, 10, 100, 1000], 'kernel': ['linear']},\n",
    "  {'C': [1, 10, 100, 1000], 'gamma': [0.001, 0.0001], 'kernel': ['rbf']},\n",
    " ]\n",
    "```"
   ]
  },
  {
   "cell_type": "markdown",
   "metadata": {},
   "source": [
    "### Exercise\n",
    "1. Run cross validation with SVM on rbf and poly kernel, trying to improve over basic results, playing with the regulariser `C`.\n",
    "\n",
    "---"
   ]
  },
  {
   "cell_type": "markdown",
   "metadata": {},
   "source": [
    "### Model Scoring\n",
    "Scikit-learn implements many different ways of scoring models, both for regression, classification, clustering, etc. \n",
    "You can find a detailed list and discussion in the [online reference](http://scikit-learn.org/stable/modules/model_evaluation.html).\n",
    "\n",
    "* **Estimator score** method: each estimators has a default score method, see each estimator’s documentation.\n",
    "* **Scoring parameter**: cross-validation rely on an internal scoring strategy. One can pass a predefined Scorer object, or a custom scorer, maybe obtained from a metrics. \n",
    "* **Metric functions**: the `metrics` module implements functions assessing prediction error for specific purposes. \n",
    "\n",
    "In the list of predefined scores, and also in metrics, particularly for multi-class classification, there are some attributes that govern how binary classification is used to score the multi-class case (e.g. `f1`,`f1_micro`,`f1_macro`,`f1_weighted`,`f1_samples`).\n",
    "* `macro` simply calculates the mean of the binary metrics, giving equal weight to each class. In problems where infrequent classes are nonetheless important, macro-averaging may be a means of highlighting their performance. On the other hand, the assumption that all classes are equally important is often untrue, such that macro-averaging will over-emphasize the typically low performance on an infrequent class.\n",
    "* `weighted` accounts for class imbalance by computing the average of binary metrics in which each class’s score is weighted by its presence in the true data sample.\n",
    "* `micro` gives each sample-class pair an equal contribution to the overall metric (except as a result of sample-weight). Rather than summing the metric per class, this sums the dividends and divisors that make up the per-class metrics to calculate an overall quotient. Micro-averaging may be preferred in multilabel settings, including multiclass classification where a majority class is to be ignored.\n",
    "* `samples` applies only to multilabel problems. It does not calculate a per-class measure, instead calculating the metric over the true and predicted classes for each sample in the evaluation data, and returning their (sample_weight-weighted) average.\n",
    "\n"
   ]
  },
  {
   "cell_type": "code",
   "execution_count": 26,
   "metadata": {},
   "outputs": [
    {
     "name": "stdout",
     "output_type": "stream",
     "text": [
      "score: accuracy : 0.9733333333333334 ± 0.04422166387140532\n",
      "score: precision_macro : 0.9793650793650794 ± 0.0331438301870176\n",
      "score: recall_macro : 0.9733333333333333 ± 0.04422166387140534\n",
      "score: f1_macro : 0.9726430976430975 ± 0.0456897053283\n"
     ]
    }
   ],
   "source": [
    "from sklearn import metrics\n",
    "\n",
    "clf = svm.SVC(kernel='linear', C=1)\n",
    "scores = model_selection.cross_val_score(clf, iris.data, iris.target, cv=10)\n",
    "print(\"score:\",\"accuracy\",\":\",scores.mean(),\"±\",scores.std())\n",
    "\n",
    "scorers = ['precision_macro','recall_macro','f1_macro']\n",
    "for sc in scorers:\n",
    "    scores = model_selection.cross_val_score(clf, iris.data, iris.target, cv=10, scoring=sc)\n",
    "    print(\"score:\",sc,\":\",scores.mean(),\"±\",scores.std())"
   ]
  },
  {
   "cell_type": "markdown",
   "metadata": {},
   "source": [
    "##### Make your own scorer\n",
    "An alternative to predifined scorer objects is to generate a custom one, likely starting from a function in the  module `sklearn.metrics`. We can convert them using the `make_scorer` method. Note that the following convention on functions of `sklearn.metrics` applies:\n",
    "* functions ending with `_score` return a value to maximize, the higher the better.\n",
    "* functions ending with `_error` or `_loss` return a value to minimize, the lower the better. When converting into a scorer object, set the `greater_is_better` parameter to `False`.\n",
    "\n",
    "As an example we will craft a F-beta scorer, with beta equal to 2. The F-beta score is the weighted harmonic mean of precision and recall, reaching its optimal value at 1 and its worst value at 0. The beta parameter determines the weight of precision in the combined score. beta < 1 lends more weight to precision, while beta > 1 favors recall (beta -> 0 considers only precision, beta -> inf only recall). This works for a two class problem."
   ]
  },
  {
   "cell_type": "code",
   "execution_count": 27,
   "metadata": {},
   "outputs": [
    {
     "name": "stderr",
     "output_type": "stream",
     "text": [
      "/home/lpaz/anaconda3/lib/python3.6/site-packages/sklearn/model_selection/_search.py:841: DeprecationWarning: The default of the `iid` parameter will change from True to False in version 0.22 and will be removed in 0.24. This will change numeric results when test-set sizes are unequal.\n",
      "  DeprecationWarning)\n"
     ]
    },
    {
     "name": "stdout",
     "output_type": "stream",
     "text": [
      "Linear SVM, score: 0.892857142857143\n",
      "Linear SVM, best params: {'C': 0.1}\n"
     ]
    },
    {
     "name": "stderr",
     "output_type": "stream",
     "text": [
      "/home/lpaz/anaconda3/lib/python3.6/site-packages/sklearn/model_selection/_search.py:841: DeprecationWarning: The default of the `iid` parameter will change from True to False in version 0.22 and will be removed in 0.24. This will change numeric results when test-set sizes are unequal.\n",
      "  DeprecationWarning)\n"
     ]
    }
   ],
   "source": [
    "ftwo_scorer = metrics.make_scorer(metrics.fbeta_score, beta=2)\n",
    "grid = model_selection.GridSearchCV(svm.SVC(kernel='linear'),\n",
    "                                    cv=5,\n",
    "                                    param_grid={'C': np.logspace(-1,3,5)},\n",
    "                                    scoring=ftwo_scorer)\n",
    "#make a random dataset for testing\n",
    "X, y = datasets.make_classification(n_samples=200)\n",
    "X_train, X_test, y_train, y_test = train_test_split(X, y, test_size=0.3, random_state=10)\n",
    "clf = grid.fit(X_train,y_train)\n",
    "clf.fit(X_train,y_train)\n",
    "print(\"Linear SVM, score:\",clf.score(X_test,y_test))\n",
    "print(\"Linear SVM, best params:\",clf.best_params_)\n"
   ]
  },
  {
   "cell_type": "code",
   "execution_count": 28,
   "metadata": {},
   "outputs": [
    {
     "name": "stdout",
     "output_type": "stream",
     "text": [
      "              precision    recall  f1-score   support\n",
      "\n",
      "     class 0       0.93      0.79      0.85        33\n",
      "     class 1       0.78      0.93      0.85        27\n",
      "\n",
      "   micro avg       0.85      0.85      0.85        60\n",
      "   macro avg       0.85      0.86      0.85        60\n",
      "weighted avg       0.86      0.85      0.85        60\n",
      "\n"
     ]
    }
   ],
   "source": [
    "# this is a nice summary for classification\n",
    "target_names = ['class 0', 'class 1']\n",
    "print(metrics.classification_report(y_test, clf.predict(X_test), target_names=target_names))"
   ]
  },
  {
   "cell_type": "markdown",
   "metadata": {},
   "source": [
    "### Dimensionality Reduction\n",
    "When working with high-dimensional data, it can be a clever idea to try to reduce dimensionality. The most common approach is PCA, which finds the best linear projection of data (i.e. the one explaining most of the variance).  \n",
    "\n",
    "PCA in Scikit-learn is in the module `decomposition`, and it can be used to transform/ preprocess data (also in pipelines, see below). "
   ]
  },
  {
   "cell_type": "code",
   "execution_count": 29,
   "metadata": {},
   "outputs": [
    {
     "name": "stdout",
     "output_type": "stream",
     "text": [
      "Explained variance: [4.15315584 1.45165929 1.19026215 0.95486802 0.6528035  0.60970791\n",
      " 0.51562004 0.4155897 ]\n",
      "Noise variance: 0.043318293213964645\n",
      "Explained variance: 0.3498995449169454\n"
     ]
    }
   ],
   "source": [
    "from sklearn import decomposition\n",
    "\n",
    "pca = decomposition.PCA(n_components = 8,\n",
    "                        whiten=True)\n",
    "pca.fit(diabetes_X_train)\n",
    "print(\"Explained variance:\",pca.explained_variance_)\n",
    "print(\"Noise variance:\",pca.noise_variance_)\n",
    "\n",
    "\n",
    "regressor = linear_model.Ridge(alpha=0.1)\n",
    "regressor.fit(pca.transform(diabetes_X_train),diabetes_y_train)\n",
    "print(\"Explained variance:\",regressor.score(pca.transform(diabetes_X_test),diabetes_y_test))"
   ]
  },
  {
   "cell_type": "markdown",
   "metadata": {},
   "source": [
    "### Pipelining\n",
    "Pipeline can be used to chain multiple estimators into one. This is useful as there is often a fixed sequence of steps in processing the data, for example feature selection, normalization and classification. All estimators in a pipeline, except the last one, must be transformers (i.e. must have a transform method). The last estimator may be any type (transformer, classifier, etc.).\n",
    "\n",
    "Pipeline serves two purposes here:\n",
    "* **Convenience and encapsulation:** fit and predict need to be called only once on the data.\n",
    "* **Joint parameter selection:** to grid search over parameters of all estimators in the pipeline at once.\n",
    "* **Safety:** to avoid leaking statistics from your test data into the trained model in cross-validation, by ensuring that the same samples are used to train the transformers and predictors.\n"
   ]
  },
  {
   "cell_type": "code",
   "execution_count": 30,
   "metadata": {},
   "outputs": [
    {
     "name": "stdout",
     "output_type": "stream",
     "text": [
      "Explained variance: 0.9166666666666666\n",
      "              precision    recall  f1-score   support\n",
      "\n",
      "      setosa       1.00      1.00      1.00        16\n",
      "  versicolor       0.85      0.96      0.90        23\n",
      "   virginica       0.94      0.81      0.87        21\n",
      "\n",
      "   micro avg       0.92      0.92      0.92        60\n",
      "   macro avg       0.93      0.92      0.92        60\n",
      "weighted avg       0.92      0.92      0.92        60\n",
      "\n"
     ]
    }
   ],
   "source": [
    "from sklearn import pipeline\n",
    "\n",
    "iris = datasets.load_iris()\n",
    "iris_X_train, iris_X_test, iris_y_train, iris_y_test = \\\n",
    "    train_test_split(iris.data, iris.target, test_size=0.4, random_state=0)\n",
    "estimators = [\n",
    "    ('scaler', preprocessing.StandardScaler()),\n",
    "    ('clf', svm.SVC(kernel='rbf', gamma=1.0, C=1.0))\n",
    "]\n",
    "pipe = pipeline.Pipeline(estimators)\n",
    "pipe.fit(iris_X_train, iris_y_train)\n",
    "\n",
    "y_predict = pipe.predict(iris_X_test)\n",
    "print(\"Explained variance:\",pipe.score(iris_X_test,iris_y_test))\n",
    "\n",
    "print(metrics.classification_report(iris_y_test, y_predict, target_names=iris.target_names))"
   ]
  },
  {
   "cell_type": "code",
   "execution_count": 31,
   "metadata": {},
   "outputs": [
    {
     "data": {
      "text/plain": [
       "{'clf': SVC(C=1.0, cache_size=200, class_weight=None, coef0=0.0,\n",
       "   decision_function_shape='ovr', degree=3, gamma=1.0, kernel='rbf',\n",
       "   max_iter=-1, probability=False, random_state=None, shrinking=True,\n",
       "   tol=0.001, verbose=False),\n",
       " 'clf__C': 1.0,\n",
       " 'clf__cache_size': 200,\n",
       " 'clf__class_weight': None,\n",
       " 'clf__coef0': 0.0,\n",
       " 'clf__decision_function_shape': 'ovr',\n",
       " 'clf__degree': 3,\n",
       " 'clf__gamma': 1.0,\n",
       " 'clf__kernel': 'rbf',\n",
       " 'clf__max_iter': -1,\n",
       " 'clf__probability': False,\n",
       " 'clf__random_state': None,\n",
       " 'clf__shrinking': True,\n",
       " 'clf__tol': 0.001,\n",
       " 'clf__verbose': False,\n",
       " 'memory': None,\n",
       " 'scaler': StandardScaler(copy=True, with_mean=True, with_std=True),\n",
       " 'scaler__copy': True,\n",
       " 'scaler__with_mean': True,\n",
       " 'scaler__with_std': True,\n",
       " 'steps': [('scaler',\n",
       "   StandardScaler(copy=True, with_mean=True, with_std=True)),\n",
       "  ('clf', SVC(C=1.0, cache_size=200, class_weight=None, coef0=0.0,\n",
       "     decision_function_shape='ovr', degree=3, gamma=1.0, kernel='rbf',\n",
       "     max_iter=-1, probability=False, random_state=None, shrinking=True,\n",
       "     tol=0.001, verbose=False))]}"
      ]
     },
     "execution_count": 31,
     "metadata": {},
     "output_type": "execute_result"
    }
   ],
   "source": [
    "# To get the Pipe's parameter names and values we use get_params\n",
    "pipe.get_params()"
   ]
  },
  {
   "cell_type": "code",
   "execution_count": 32,
   "metadata": {},
   "outputs": [
    {
     "data": {
      "text/plain": [
       "Pipeline(memory=None,\n",
       "     steps=[('scaler', StandardScaler(copy=True, with_mean=True, with_std=True)), ('clf', SVC(C=10, cache_size=200, class_weight=None, coef0=0.0,\n",
       "  decision_function_shape='ovr', degree=3, gamma=1.0, kernel='rbf',\n",
       "  max_iter=-1, probability=False, random_state=None, shrinking=True,\n",
       "  tol=0.001, verbose=False))])"
      ]
     },
     "execution_count": 32,
     "metadata": {},
     "output_type": "execute_result"
    }
   ],
   "source": [
    "# This is the way to refer to parameters of each estimator\n",
    "pipe.set_params(clf__C=10)"
   ]
  },
  {
   "cell_type": "code",
   "execution_count": 33,
   "metadata": {},
   "outputs": [
    {
     "data": {
      "text/plain": [
       "SVC(C=10, cache_size=200, class_weight=None, coef0=0.0,\n",
       "  decision_function_shape='ovr', degree=3, gamma=1.0, kernel='rbf',\n",
       "  max_iter=-1, probability=False, random_state=None, shrinking=True,\n",
       "  tol=0.001, verbose=False)"
      ]
     },
     "execution_count": 33,
     "metadata": {},
     "output_type": "execute_result"
    }
   ],
   "source": [
    "#this accesses the estimator\n",
    "pipe.named_steps['clf']\n",
    "# use pipe.steps[0] for step 0 etc."
   ]
  },
  {
   "cell_type": "code",
   "execution_count": 34,
   "metadata": {
    "scrolled": true
   },
   "outputs": [
    {
     "name": "stderr",
     "output_type": "stream",
     "text": [
      "/home/lpaz/anaconda3/lib/python3.6/site-packages/sklearn/metrics/classification.py:1143: UndefinedMetricWarning: F-score is ill-defined and being set to 0.0 in labels with no predicted samples.\n",
      "  'precision', 'predicted', average, warn_for)\n",
      "/home/lpaz/anaconda3/lib/python3.6/site-packages/sklearn/metrics/classification.py:1143: UndefinedMetricWarning: F-score is ill-defined and being set to 0.0 in labels with no predicted samples.\n",
      "  'precision', 'predicted', average, warn_for)\n",
      "/home/lpaz/anaconda3/lib/python3.6/site-packages/sklearn/metrics/classification.py:1143: UndefinedMetricWarning: F-score is ill-defined and being set to 0.0 in labels with no predicted samples.\n",
      "  'precision', 'predicted', average, warn_for)\n",
      "/home/lpaz/anaconda3/lib/python3.6/site-packages/sklearn/metrics/classification.py:1143: UndefinedMetricWarning: F-score is ill-defined and being set to 0.0 in labels with no predicted samples.\n",
      "  'precision', 'predicted', average, warn_for)\n",
      "/home/lpaz/anaconda3/lib/python3.6/site-packages/sklearn/metrics/classification.py:1143: UndefinedMetricWarning: F-score is ill-defined and being set to 0.0 in labels with no predicted samples.\n",
      "  'precision', 'predicted', average, warn_for)\n",
      "/home/lpaz/anaconda3/lib/python3.6/site-packages/sklearn/metrics/classification.py:1143: UndefinedMetricWarning: F-score is ill-defined and being set to 0.0 in labels with no predicted samples.\n",
      "  'precision', 'predicted', average, warn_for)\n",
      "/home/lpaz/anaconda3/lib/python3.6/site-packages/sklearn/model_selection/_search.py:841: DeprecationWarning: The default of the `iid` parameter will change from True to False in version 0.22 and will be removed in 0.24. This will change numeric results when test-set sizes are unequal.\n",
      "  DeprecationWarning)\n",
      "/home/lpaz/anaconda3/lib/python3.6/site-packages/sklearn/metrics/classification.py:1143: UndefinedMetricWarning: F-score is ill-defined and being set to 0.0 in labels with no predicted samples.\n",
      "  'precision', 'predicted', average, warn_for)\n",
      "/home/lpaz/anaconda3/lib/python3.6/site-packages/sklearn/metrics/classification.py:1143: UndefinedMetricWarning: F-score is ill-defined and being set to 0.0 in labels with no predicted samples.\n",
      "  'precision', 'predicted', average, warn_for)\n",
      "/home/lpaz/anaconda3/lib/python3.6/site-packages/sklearn/metrics/classification.py:1143: UndefinedMetricWarning: F-score is ill-defined and being set to 0.0 in labels with no predicted samples.\n",
      "  'precision', 'predicted', average, warn_for)\n",
      "/home/lpaz/anaconda3/lib/python3.6/site-packages/sklearn/metrics/classification.py:1143: UndefinedMetricWarning: F-score is ill-defined and being set to 0.0 in labels with no predicted samples.\n",
      "  'precision', 'predicted', average, warn_for)\n",
      "/home/lpaz/anaconda3/lib/python3.6/site-packages/sklearn/metrics/classification.py:1143: UndefinedMetricWarning: F-score is ill-defined and being set to 0.0 in labels with no predicted samples.\n",
      "  'precision', 'predicted', average, warn_for)\n",
      "/home/lpaz/anaconda3/lib/python3.6/site-packages/sklearn/metrics/classification.py:1143: UndefinedMetricWarning: F-score is ill-defined and being set to 0.0 in labels with no predicted samples.\n",
      "  'precision', 'predicted', average, warn_for)\n"
     ]
    },
    {
     "name": "stdout",
     "output_type": "stream",
     "text": [
      "{'clf__C': 1.2400000000000002, 'clf__gamma': 2}\n",
      "              precision    recall  f1-score   support\n",
      "\n",
      "      setosa       1.00      1.00      1.00        16\n",
      "  versicolor       0.88      0.96      0.92        23\n",
      "   virginica       0.95      0.86      0.90        21\n",
      "\n",
      "   micro avg       0.93      0.93      0.93        60\n",
      "   macro avg       0.94      0.94      0.94        60\n",
      "weighted avg       0.94      0.93      0.93        60\n",
      "\n"
     ]
    },
    {
     "name": "stderr",
     "output_type": "stream",
     "text": [
      "/home/lpaz/anaconda3/lib/python3.6/site-packages/sklearn/model_selection/_search.py:841: DeprecationWarning: The default of the `iid` parameter will change from True to False in version 0.22 and will be removed in 0.24. This will change numeric results when test-set sizes are unequal.\n",
      "  DeprecationWarning)\n"
     ]
    }
   ],
   "source": [
    "#why does this behave so strangely?\n",
    "param_grid = dict(clf__C=np.linspace(0.1,2,11), clf__gamma=[0.5,1,1.5,2,2.5])\n",
    "grid = model_selection.GridSearchCV(pipe, param_grid=param_grid, cv=5, scoring = \"f1_macro\")\n",
    "clf = grid.fit(iris_X_train,iris_y_train)\n",
    "print(grid.best_params_)\n",
    "clf.fit(iris_X_train,iris_y_train)\n",
    "y_predict = clf.predict(iris_X_test)\n",
    "print(metrics.classification_report(iris_y_test, y_predict , target_names=iris.target_names))"
   ]
  },
  {
   "cell_type": "code",
   "execution_count": 35,
   "metadata": {
    "scrolled": true
   },
   "outputs": [
    {
     "name": "stdout",
     "output_type": "stream",
     "text": [
      "{'clf__C': 1.4300000000000002, 'clf__gamma': 0.5}\n",
      "              precision    recall  f1-score   support\n",
      "\n",
      "      setosa       1.00      1.00      1.00        20\n",
      "  versicolor       0.95      0.95      0.95        20\n",
      "   virginica       0.95      0.95      0.95        20\n",
      "\n",
      "   micro avg       0.97      0.97      0.97        60\n",
      "   macro avg       0.97      0.97      0.97        60\n",
      "weighted avg       0.97      0.97      0.97        60\n",
      "\n"
     ]
    }
   ],
   "source": [
    "# The above warnings seem to happen because the train and test sets are unbalanced.\n",
    "\n",
    "iris_X_train2, iris_X_test2, iris_y_train2, iris_y_test2 = \\\n",
    "    train_test_split(iris.data, iris.target, test_size=0.4, random_state=0,\n",
    "                     stratify=iris.target)\n",
    "\n",
    "param_grid = dict(clf__C=np.linspace(0.1,2,11), clf__gamma=[0.5,1,1.5,2,2.5])\n",
    "grid = model_selection.GridSearchCV(pipe, param_grid=param_grid, scoring = \"f1_macro\",\n",
    "                                    cv=5)\n",
    "clf = grid.fit(iris_X_train2, iris_y_train2)\n",
    "print(grid.best_params_)\n",
    "y_predict = clf.predict(iris_X_test2)\n",
    "print(metrics.classification_report(iris_y_test2, y_predict , target_names=iris.target_names))"
   ]
  },
  {
   "cell_type": "markdown",
   "metadata": {},
   "source": [
    "##### Last but not least, the scikit-learn algorithm \"cheatsheet\"\n",
    "\n",
    "<img width=\"100%\" src=\"images/ml_map.png\">"
   ]
  },
  {
   "cell_type": "markdown",
   "metadata": {},
   "source": [
    "## Excercises\n",
    "\n",
    "1. Fetch the california housing dataset using scikit-learn datasets module and convert it into a pandas.DataFrame. Explore the correlations between the target and the rest of the features using seaborn visualizations. Are there redundant features? What features show the largest linear correlation with target? Do you think they are the most informative features?\n",
    "\n",
    "2. Transform the target continous values into quartile labels (discrete values that indicate if the given target value is in the lowest 25% of all values, 25 to 50 %, etc). Repeat the visual exploration with seaborn visualizations. From this visualization, can you identify features that are non-linearly correlated with the target? Are they the same features that showed the highest linear correlation too?\n",
    "\n",
    "3. Interpretation question: Explore through visualizations the relationship between Latitude, Longitude and the continuous target value (Hint, try to also overlay the locations of San Francisco, Reno, Los Angeles, San Diego and Sacramento over the data). Is the target value homogenuously distributed across California? If there is heterogeneity, how could one exploit the knowledge of Latitude and Longitude to improve the model's predictions?\n",
    "#### The California dataset is too big to use the SVC on all of it in a short time. We will work on the subset of data that is around San Francisco (37°46′00″N 122°26′00″O)\n",
    "\n",
    "4. Get the dataset that has the Latitude and Longitude inside a box, 0.6 degrees wide, centered at San Francisco (37°46′00″N 122°26′00″O).\n",
    "\n",
    "5. Build an SVC using linear and RBF kernels to learn the target value using only the MedInc, HouseAge and AveRooms features. Which kernel works best?\n",
    "\n",
    "6. Repeat the same as above but using only the Population, AveOccup, Latitude and Longitude features. Which kernel works best?\n",
    "\n",
    "7. Repeat the same as above but with all features. Which kernel works best?"
   ]
  },
  {
   "cell_type": "markdown",
   "metadata": {},
   "source": [
    "---\n",
    "### Hints for solutions"
   ]
  },
  {
   "cell_type": "code",
   "execution_count": null,
   "metadata": {
    "scrolled": true
   },
   "outputs": [],
   "source": [
    "# Help for Ex 1\n",
    "import numpy as np\n",
    "import pandas as pd\n",
    "import seaborn as sns\n",
    "from sklearn import datasets\n",
    "\n",
    "# To get the dataset use datasets.fetch_california_housing\n",
    "raw_data = datasets.fetch_california_housing()\n",
    "\n",
    "# Create the dataframe\n",
    "df = pd.DataFrame(data=raw_data['data'],\n",
    "                  columns=raw_data['feature_names'])\n",
    "df = df.assign(target=raw_data['target'])\n",
    "print(df.head(4))\n",
    "sns.pairplot(data=df)\n",
    "\n",
    "# To explore the linear correlation, you can use the pearson\n",
    "# correlation defined by np.corrcoef\n",
    "plt.figure()\n",
    "plt.bar(range(len(raw_data['feature_names'])),\n",
    "        np.corrcoef(df.values.T)[-1, :-1])\n",
    "plt.gca().set_xticks(range(len(raw_data['feature_names'])))\n",
    "plt.gca().set_xticklabels(raw_data['feature_names'], rotation=60)\n",
    "plt.ylabel('Pearson correlation')"
   ]
  },
  {
   "cell_type": "code",
   "execution_count": null,
   "metadata": {
    "scrolled": true
   },
   "outputs": [],
   "source": [
    "# Help for Ex 2\n",
    "import numpy as np\n",
    "import pandas as pd\n",
    "import seaborn as sns\n",
    "from sklearn import datasets\n",
    "\n",
    "# To get the dataset use datasets.fetch_california_housing\n",
    "raw_data = datasets.fetch_california_housing()\n",
    "\n",
    "# To split into percentiles you can use numpy.percentile\n",
    "# with digitize or just a plain sort too\n",
    "target = raw_data['target']\n",
    "bins = np.percentile(target, np.linspace(0, 100, 5)[1:])\n",
    "bins[-1] += 1\n",
    "target = np.digitize(target, bins)\n",
    "\n",
    "# Create the dataframe\n",
    "df = pd.DataFrame(data=raw_data['data'],\n",
    "                  columns=raw_data['feature_names'])\n",
    "df = df.assign(target=target)\n",
    "print(df.head(4))\n",
    "\n",
    "# Colorcode according to the target\n",
    "sns.pairplot(data=df,\n",
    "             hue='target'\n",
    "            )\n",
    "\n",
    "# To explore the linear correlation, you can use the pearson\n",
    "# correlation defined by np.corrcoef\n",
    "plt.figure()\n",
    "plt.bar(range(len(raw_data['feature_names'])),\n",
    "        np.corrcoef(df.values.T)[-1, :-1])\n",
    "plt.gca().set_xticks(range(len(raw_data['feature_names'])))\n",
    "plt.gca().set_xticklabels(raw_data['feature_names'], rotation=60)\n",
    "plt.ylabel('Pearson correlation')"
   ]
  },
  {
   "cell_type": "code",
   "execution_count": null,
   "metadata": {},
   "outputs": [],
   "source": [
    "# Hints for Ex 3\n",
    "plt.figure(figsize=(9, 9))\n",
    "sns.relplot(data=df, x='Longitude', y='Latitude', hue='target', alpha=0.4, kind='scatter')\n",
    "sns.jointplot(data=df, x='Longitude', y='Latitude', kind='kde', n_levels=40)\n",
    "\n",
    "def digitize(a, bins=10):\n",
    "    a = np.asarray(a).flatten()\n",
    "    m = np.min(a)\n",
    "    M = np.max(a)\n",
    "    bins = np.linspace(m, M, bins + 1)\n",
    "    bins[-1] += 1 # To prevent np.digitize from assinging M to a separate bin\n",
    "    return np.digitize(a, bins) - 1\n",
    "\n",
    "\n",
    "def crude_geomerge(lat, lon, val, bins=10,\n",
    "                   val_name='Value', reduce=np.mean):\n",
    "    lat = np.asarray(lat)\n",
    "    lon = np.asarray(lon)\n",
    "    val = np.asarray(val)\n",
    "    blat = digitize(lat, bins)\n",
    "    blon = digitize(lon, bins)\n",
    "    df = pd.DataFrame.from_dict({'blat': blat,\n",
    "                                 'blon': blon,\n",
    "                                 'Latitude': lat,\n",
    "                                 'Longitude': lon,\n",
    "                                 val_name: val,\n",
    "                                })\n",
    "    def reducer(df, cols=None, reduce_=np.mean):\n",
    "        if cols is None:\n",
    "            cols = [c for c in df.columns\n",
    "                    if c not in ['blat', 'blon']]\n",
    "        output = (df.groupby(['blat', 'blon'])[cols].\n",
    "                     apply(reduce_)\n",
    "                 )\n",
    "        if isinstance(output, pd.Series):\n",
    "            output = output.to_frame(name=cols[0])\n",
    "        return output\n",
    "\n",
    "    cols1 = [c for c in df.columns\n",
    "             if c not in ['blat', 'blon', val_name]]\n",
    "    return pd.concat([reducer(df, cols1),\n",
    "                      reducer(df, [val_name], reduce)\n",
    "                     ], axis=1).reset_index(drop=True)\n",
    "\n",
    "bins = 40\n",
    "\n",
    "# This plot is very crude. The sophisticated way to do this\n",
    "# is called a choropleth and you can make interactive ones with\n",
    "# tools like geoviews\n",
    "df2 = crude_geomerge(df.Latitude,\n",
    "                     df.Longitude,\n",
    "                     df.target,\n",
    "                     bins=bins,\n",
    "                     val_name='target')\n",
    "sns.relplot(data=df2, x='Longitude', y='Latitude', hue='target',\n",
    "            kind='scatter', alpha=0.7)\n",
    "plt.title('Mean of target')\n",
    "\n",
    "df2 = crude_geomerge(df.Latitude,\n",
    "                     df.Longitude,\n",
    "                     df.target,\n",
    "                     bins=bins,\n",
    "                     val_name='target',\n",
    "                     reduce=np.median)\n",
    "sns.relplot(data=df2, x='Longitude', y='Latitude', hue='target',\n",
    "            kind='scatter', alpha=0.7)\n",
    "plt.title('Median of target')"
   ]
  },
  {
   "cell_type": "code",
   "execution_count": null,
   "metadata": {},
   "outputs": [],
   "source": [
    "# Help for Ex 4\n",
    "\n",
    "# We can use simple boolean indexing\n",
    "SF_lat = 37 + 46. / 60 \n",
    "SF_lon = -122 + 26. /60\n",
    "valid = np.logical_and(np.abs(df.Latitude - SF_lat) < 0.3,\n",
    "                       np.abs(df.Longitude - SF_lon) < 0.3)\n",
    "print(np.sum(valid), len(df), np.mean(valid))\n",
    "SF = df[valid]"
   ]
  },
  {
   "cell_type": "code",
   "execution_count": null,
   "metadata": {},
   "outputs": [],
   "source": [
    "# Help for Ex 5, 6 and 7\n",
    "\n",
    "# It is best to Scale the entire dataset first, and then divide in train and test\n",
    "# What is a good scaler when the data has outliers?\n",
    "X = SF[[c for c in SF.columns if c != 'target']].values\n",
    "target = SF['target'].values\n",
    "scaled_X = preprocessing.StandardScaler().fit_transform(X)\n",
    "\n",
    "# Define the estimators either as Pipelines or raw SVCs\n",
    "\n",
    "# To get faster results, we can increase the cache_size (beware of RAM usage)\n",
    "rbf = svm.SVC(kernel='rbf', gamma='auto', C=1,\n",
    "              cache_size=4000)\n",
    "lin = svm.SVC(kernel='linear', C=1,\n",
    "              cache_size=4000)\n",
    "\n",
    "# If necessary you can split into train and test sets using\n",
    "# stratify to ensure that the proportion of targets are\n",
    "# preserved between each set\n",
    "train_X, test_X, train_y, test_y = \\\n",
    "    model_selection.train_test_split(X, target,\n",
    "                                     test_size=0.5)\n",
    "\n",
    "# To split the features you can use simple slicing\n",
    "f1_train_X = train_X[:, :4]\n",
    "f1_test_X = train_X[:, :4]\n",
    "\n",
    "print(train_X.shape)\n",
    "# Use KFold crossvalidation with gridsearch if necessary.\n",
    "# Choose an appropriate evaluation metric too\n",
    "lin.fit(train_X, train_y)\n",
    "pred_y = lin.predict(test_X)\n",
    "metrics.f1_score(pred_y, test_y, average='macro')"
   ]
  },
  {
   "cell_type": "code",
   "execution_count": null,
   "metadata": {},
   "outputs": [],
   "source": []
  }
 ],
 "metadata": {
  "kernelspec": {
   "display_name": "Python 3",
   "language": "python",
   "name": "python3"
  },
  "language_info": {
   "codemirror_mode": {
    "name": "ipython",
    "version": 3
   },
   "file_extension": ".py",
   "mimetype": "text/x-python",
   "name": "python",
   "nbconvert_exporter": "python",
   "pygments_lexer": "ipython3",
   "version": "3.6.7"
  }
 },
 "nbformat": 4,
 "nbformat_minor": 2
}
